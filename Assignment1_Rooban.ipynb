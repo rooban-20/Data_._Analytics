{
  "nbformat": 4,
  "nbformat_minor": 0,
  "metadata": {
    "colab": {
      "provenance": [],
      "authorship_tag": "ABX9TyMRMgRpwOyK6B+xk0JLvFpI",
      "include_colab_link": true
    },
    "kernelspec": {
      "name": "python3",
      "display_name": "Python 3"
    },
    "language_info": {
      "name": "python"
    }
  },
  "cells": [
    {
      "cell_type": "markdown",
      "metadata": {
        "id": "view-in-github",
        "colab_type": "text"
      },
      "source": [
        "<a href=\"https://colab.research.google.com/github/rooban-20/Data_._Analytics/blob/main/Assignment1_Rooban.ipynb\" target=\"_parent\"><img src=\"https://colab.research.google.com/assets/colab-badge.svg\" alt=\"Open In Colab\"/></a>"
      ]
    },
    {
      "cell_type": "code",
      "execution_count": null,
      "metadata": {
        "id": "GXhDL7iJnmvt"
      },
      "outputs": [],
      "source": [
        "# 📌 Step 1: Import Required Libraries\n",
        "import pandas as pd\n",
        "import seaborn as sns\n",
        "import matplotlib.pyplot as plt\n",
        "from google.colab import files\n",
        "\n",
        "# 📌 Step 2: Upload CSV File\n",
        "print(\"📁 Please upload your CSV file\")\n",
        "uploaded = files.upload()\n",
        "\n",
        "# Automatically detect file name\n",
        "filename = next(iter(uploaded))\n",
        "data = pd.read_csv(filename)\n",
        "print(f\"\\n✅ File '{filename}' uploaded successfully.\\n\")\n",
        "\n",
        "# 📌 Step 3: Preview the Data\n",
        "print(\"📄 First 5 Rows of the Dataset:\")\n",
        "display(data.head())\n",
        "\n",
        "# 📌 Step 4: Dataset Info\n",
        "print(\"\\n📊 Dataset Information:\")\n",
        "print(data.info())\n",
        "\n",
        "print(\"\\n📈 Descriptive Statistics:\")\n",
        "display(data.describe())\n",
        "\n",
        "# 📌 Step 5: Check for Missing and Duplicate Values\n",
        "print(\"\\n🧼 Checking for Missing and Duplicate Values:\")\n",
        "print(\"Missing values per column:\\n\", data.isnull().sum())\n",
        "print(\"Duplicate rows:\", data.duplicated().sum())\n",
        "\n",
        "#Step 5.5: Forward Fill the Missing Values\n",
        "if data.isnull().sum().sum() > 0:\n",
        "    data.fillna(method='ffill', inplace=True)\n",
        "    print(\"✅ Missing values forward filled.\")\n",
        "else:\n",
        "    print(\"✅ No missing values found.\")\n",
        "\n",
        "# 📌 Step 7: Remove Duplicate Rows\n",
        "if data.duplicated().sum() > 0:\n",
        "    data.drop_duplicates(inplace=True)\n",
        "    print(\"✅ Duplicate rows removed.\")\n",
        "else:\n",
        "    print(\"✅ No duplicate rows to remove.\")\n",
        "\n",
        "# 📌 Step 6: Encode 'Gender' Column if it Exists\n",
        "if 'Sex' in data.columns:\n",
        "    data['Sex'] = data['Sex'].map({'Male': 0, 'Female': 1})\n",
        "    print(\"\\n🔁 Sex column encoded (Male = 0, Female = 1)\")\n",
        "\n",
        "# 📌 Step 7: Boxplots for Numeric Columns\n",
        "print(\"\\n📦 Boxplots for Numeric Columns:\")\n",
        "numeric_cols = data.select_dtypes(include='number').columns\n",
        "for col in numeric_cols:\n",
        "    plt.figure(figsize=(6, 4))\n",
        "    sns.boxplot(y=data[col], color='skyblue')\n",
        "    plt.title(f'Boxplot - {col}', fontsize=14)\n",
        "    plt.grid(True, linestyle='--', alpha=0.5)\n",
        "    plt.tight_layout()\n",
        "    plt.show()\n",
        "\n",
        "# 📌 Step 8: Correlation Heatmap\n",
        "print(\"\\n📌 Correlation Heatmap:\")\n",
        "plt.figure(figsize=(8, 6))\n",
        "sns.heatmap(data[numeric_cols].corr(), annot=True, cmap='coolwarm', linewidths=0.5)\n",
        "plt.title(\"📈 Correlation Heatmap\", fontsize=16)\n",
        "plt.tight_layout()\n",
        "plt.show()\n"
      ]
    }
  ]
}